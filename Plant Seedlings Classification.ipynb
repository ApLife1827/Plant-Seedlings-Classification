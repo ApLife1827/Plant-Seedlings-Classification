{
 "cells": [
  {
   "cell_type": "markdown",
   "metadata": {},
   "source": [
    "# Plant Seedlings Classification"
   ]
  },
  {
   "cell_type": "markdown",
   "metadata": {},
   "source": [
    "### Libraries"
   ]
  },
  {
   "cell_type": "code",
   "execution_count": 1,
   "metadata": {},
   "outputs": [
    {
     "name": "stderr",
     "output_type": "stream",
     "text": [
      "WARNING:root:Limited tf.compat.v2.summary API due to missing TensorBoard installation.\n",
      "WARNING:root:Limited tf.compat.v2.summary API due to missing TensorBoard installation.\n",
      "WARNING:root:Limited tf.compat.v2.summary API due to missing TensorBoard installation.\n",
      "WARNING:root:Limited tf.summary API due to missing TensorBoard installation.\n",
      "Using TensorFlow backend.\n"
     ]
    }
   ],
   "source": [
    "import numpy as np\n",
    "import pandas as pd\n",
    "import matplotlib.pyplot as plt\n",
    "import seaborn as sns\n",
    "from tensorflow.keras.models import Sequential,Model\n",
    "from tensorflow.keras.layers import Lambda,Conv2D,MaxPooling2D,Flatten,Dense,Dropout\n",
    "from tensorflow.keras.preprocessing.image import ImageDataGenerator\n",
    "from tensorflow.keras.layers import BatchNormalization\n",
    "from tensorflow.keras.utils import to_categorical\n",
    "import keras\n",
    "from tensorflow.keras.applications.vgg16 import preprocess_input\n",
    "from tensorflow.keras.optimizers import RMSprop,Adam\n",
    "from sklearn.model_selection import train_test_split\n",
    "from sklearn.preprocessing import LabelEncoder\n",
    "from tensorflow.keras.preprocessing import image\n",
    "import os\n",
    "import tensorflow as tf\n",
    "from tensorflow.keras.callbacks import ReduceLROnPlateau"
   ]
  },
  {
   "cell_type": "markdown",
   "metadata": {},
   "source": [
    "### Dataset Exploration "
   ]
  },
  {
   "cell_type": "code",
   "execution_count": 2,
   "metadata": {},
   "outputs": [
    {
     "name": "stdout",
     "output_type": "stream",
     "text": [
      "Found 4750 files belonging to 12 classes.\n",
      "Using 3800 files for training.\n"
     ]
    }
   ],
   "source": [
    "data_dir=\"Dataset/train\"\n",
    "batch_size = 32\n",
    "img_height = 180\n",
    "img_width = 180\n",
    "train_ds = tf.keras.preprocessing.image_dataset_from_directory(\n",
    "  data_dir,\n",
    "  validation_split=0.2,\n",
    "  subset=\"training\",\n",
    "  seed=123,\n",
    "  image_size=(img_height, img_width),\n",
    "  batch_size=batch_size)"
   ]
  },
  {
   "cell_type": "code",
   "execution_count": 3,
   "metadata": {},
   "outputs": [
    {
     "name": "stdout",
     "output_type": "stream",
     "text": [
      "Found 4750 files belonging to 12 classes.\n",
      "Using 950 files for validation.\n"
     ]
    }
   ],
   "source": [
    "val_ds = tf.keras.preprocessing.image_dataset_from_directory(\n",
    "  data_dir,\n",
    "  validation_split=0.2,\n",
    "  subset=\"validation\",\n",
    "  seed=123,\n",
    "  image_size=(img_height, img_width),\n",
    "  batch_size=batch_size)"
   ]
  },
  {
   "cell_type": "code",
   "execution_count": 4,
   "metadata": {},
   "outputs": [
    {
     "name": "stdout",
     "output_type": "stream",
     "text": [
      "['Black-grass', 'Charlock', 'Cleavers', 'Common Chickweed', 'Common wheat', 'Fat Hen', 'Loose Silky-bent', 'Maize', 'Scentless Mayweed', 'Shepherds Purse', 'Small-flowered Cranesbill', 'Sugar beet']\n"
     ]
    }
   ],
   "source": [
    "class_names = train_ds.class_names\n",
    "print(class_names)"
   ]
  },
  {
   "cell_type": "code",
   "execution_count": 5,
   "metadata": {},
   "outputs": [],
   "source": [
    "from tensorflow.keras import layers\n",
    "\n",
    "normalization_layer = tf.keras.layers.experimental.preprocessing.Rescaling(1./255)"
   ]
  },
  {
   "cell_type": "markdown",
   "metadata": {},
   "source": [
    "### Understanding our model\n",
    "- The model we have created is for understanding of all the concepts one would require for understanding and building your deep learning models. The model we have created here uses functional model structure defined in Keras."
   ]
  },
  {
   "cell_type": "code",
   "execution_count": 6,
   "metadata": {},
   "outputs": [],
   "source": [
    "num_classes = 12\n",
    "\n",
    "model = tf.keras.Sequential([\n",
    "  layers.experimental.preprocessing.Rescaling(1./255),\n",
    "  layers.Conv2D(32, 3, activation='relu'),\n",
    "  layers.MaxPooling2D(),\n",
    "  layers.Conv2D(32, 3, activation='relu'),\n",
    "  layers.MaxPooling2D(),\n",
    "  layers.Conv2D(32, 3, activation='relu'),\n",
    "  layers.MaxPooling2D(),\n",
    "  layers.Flatten(),\n",
    "  layers.Dense(128, activation='relu'),\n",
    "  layers.Dense(num_classes)\n",
    "])\n",
    "\n"
   ]
  },
  {
   "cell_type": "code",
   "execution_count": 7,
   "metadata": {},
   "outputs": [],
   "source": [
    "model.compile(\n",
    "  optimizer='adam',\n",
    "  loss=tf.losses.SparseCategoricalCrossentropy(from_logits=True),\n",
    "  metrics=['accuracy'])"
   ]
  },
  {
   "cell_type": "code",
   "execution_count": 8,
   "metadata": {},
   "outputs": [
    {
     "name": "stdout",
     "output_type": "stream",
     "text": [
      "Epoch 1/10\n",
      "119/119 [==============================] - 253s 2s/step - loss: 2.2467 - accuracy: 0.2199 - val_loss: 1.4786 - val_accuracy: 0.5137\n",
      "Epoch 2/10\n",
      "119/119 [==============================] - 120s 990ms/step - loss: 1.3131 - accuracy: 0.5553 - val_loss: 1.2045 - val_accuracy: 0.6000\n",
      "Epoch 3/10\n",
      "119/119 [==============================] - 125s 1s/step - loss: 1.0420 - accuracy: 0.6551 - val_loss: 0.9846 - val_accuracy: 0.6811\n",
      "Epoch 4/10\n",
      "119/119 [==============================] - 125s 1s/step - loss: 0.8190 - accuracy: 0.7200 - val_loss: 0.9747 - val_accuracy: 0.6821\n",
      "Epoch 5/10\n",
      "119/119 [==============================] - 126s 1s/step - loss: 0.6541 - accuracy: 0.7912 - val_loss: 0.9374 - val_accuracy: 0.7063\n",
      "Epoch 6/10\n",
      "119/119 [==============================] - 192s 2s/step - loss: 0.5113 - accuracy: 0.8358 - val_loss: 0.7844 - val_accuracy: 0.7579\n",
      "Epoch 7/10\n",
      "119/119 [==============================] - 380s 3s/step - loss: 0.4086 - accuracy: 0.8575 - val_loss: 0.8025 - val_accuracy: 0.7600\n",
      "Epoch 8/10\n",
      "119/119 [==============================] - 324s 3s/step - loss: 0.2996 - accuracy: 0.8972 - val_loss: 0.9166 - val_accuracy: 0.7411\n",
      "Epoch 9/10\n",
      "119/119 [==============================] - 145s 1s/step - loss: 0.2204 - accuracy: 0.9241 - val_loss: 0.8497 - val_accuracy: 0.7611\n",
      "Epoch 10/10\n",
      "119/119 [==============================] - 133s 1s/step - loss: 0.1437 - accuracy: 0.9570 - val_loss: 0.9208 - val_accuracy: 0.7674\n"
     ]
    }
   ],
   "source": [
    "model.fit(\n",
    "  train_ds,\n",
    "  validation_data=val_ds,\n",
    "  epochs=10\n",
    ")                    \n",
    "# Calling `save('my_model.h5')` creates a h5 file `my_model.h5`.\n",
    "model.save(\"plantseeding.h5\")"
   ]
  },
  {
   "cell_type": "code",
   "execution_count": 9,
   "metadata": {},
   "outputs": [],
   "source": [
    "import tensorflow\n",
    "# It can be used to reconstruct the model identically.\n",
    "reconstructed_model = tensorflow.keras.models.load_model(\"plantseeding.h5\")"
   ]
  },
  {
   "cell_type": "markdown",
   "metadata": {},
   "source": [
    "### Prepare testing Dataset and predict the output"
   ]
  },
  {
   "cell_type": "code",
   "execution_count": 10,
   "metadata": {},
   "outputs": [],
   "source": [
    "import cv2\n",
    "def image_reader(path):\n",
    "    t=cv2.imread(path)\n",
    "    t=cv2.cvtColor(t, cv2.COLOR_BGR2RGB)\n",
    "    t=cv2.resize(t, (180,180))\n",
    "    return t\n",
    "\n",
    "def test_prepare_data(list_of_images,test_dir):\n",
    "    x=[]\n",
    "    for image in list_of_images:\n",
    "        x.append(image_reader(test_dir+image))\n",
    "    return x\n",
    "test_dir='Dataset/test/'\n",
    "test_fnames=os.listdir(test_dir)\n",
    "testing_data=test_prepare_data(test_fnames,test_dir)\n",
    "evaluation=np.asarray(testing_data)"
   ]
  },
  {
   "cell_type": "code",
   "execution_count": 11,
   "metadata": {},
   "outputs": [
    {
     "name": "stdout",
     "output_type": "stream",
     "text": [
      "['Small-flowered Cranesbill' 'Fat Hen' 'Fat Hen' 'Common Chickweed'\n",
      " 'Sugar beet' 'Loose Silky-bent' 'Common Chickweed' 'Fat Hen'\n",
      " 'Loose Silky-bent' 'Loose Silky-bent' 'Common Chickweed'\n",
      " 'Small-flowered Cranesbill' 'Scentless Mayweed' 'Scentless Mayweed'\n",
      " 'Fat Hen' 'Fat Hen' 'Scentless Mayweed' 'Scentless Mayweed' 'Fat Hen'\n",
      " 'Charlock' 'Fat Hen' 'Small-flowered Cranesbill' 'Shepherds Purse'\n",
      " 'Sugar beet' 'Sugar beet' 'Maize' 'Fat Hen' 'Scentless Mayweed'\n",
      " 'Common Chickweed' 'Sugar beet' 'Common Chickweed' 'Shepherds Purse'\n",
      " 'Loose Silky-bent' 'Cleavers' 'Loose Silky-bent' 'Loose Silky-bent'\n",
      " 'Loose Silky-bent' 'Loose Silky-bent' 'Common Chickweed' 'Maize'\n",
      " 'Small-flowered Cranesbill' 'Fat Hen' 'Common Chickweed'\n",
      " 'Small-flowered Cranesbill' 'Sugar beet' 'Cleavers' 'Maize'\n",
      " 'Scentless Mayweed' 'Maize' 'Small-flowered Cranesbill'\n",
      " 'Loose Silky-bent' 'Sugar beet' 'Cleavers' 'Loose Silky-bent' 'Maize'\n",
      " 'Fat Hen' 'Charlock' 'Small-flowered Cranesbill' 'Cleavers'\n",
      " 'Loose Silky-bent' 'Sugar beet' 'Cleavers' 'Charlock' 'Black-grass'\n",
      " 'Maize' 'Fat Hen' 'Black-grass' 'Loose Silky-bent' 'Shepherds Purse'\n",
      " 'Scentless Mayweed' 'Small-flowered Cranesbill' 'Shepherds Purse'\n",
      " 'Scentless Mayweed' 'Common Chickweed' 'Fat Hen' 'Common wheat'\n",
      " 'Loose Silky-bent' 'Scentless Mayweed' 'Scentless Mayweed'\n",
      " 'Loose Silky-bent' 'Sugar beet' 'Common Chickweed' 'Common Chickweed'\n",
      " 'Common wheat' 'Shepherds Purse' 'Sugar beet' 'Cleavers' 'Fat Hen'\n",
      " 'Fat Hen' 'Loose Silky-bent' 'Charlock' 'Loose Silky-bent' 'Fat Hen'\n",
      " 'Loose Silky-bent' 'Common Chickweed' 'Loose Silky-bent'\n",
      " 'Small-flowered Cranesbill' 'Shepherds Purse' 'Maize' 'Charlock'\n",
      " 'Fat Hen' 'Sugar beet' 'Scentless Mayweed' 'Cleavers' 'Black-grass'\n",
      " 'Fat Hen' 'Common Chickweed' 'Scentless Mayweed' 'Cleavers' 'Cleavers'\n",
      " 'Loose Silky-bent' 'Charlock' 'Common Chickweed' 'Shepherds Purse'\n",
      " 'Shepherds Purse' 'Fat Hen' 'Cleavers' 'Charlock' 'Sugar beet'\n",
      " 'Common Chickweed' 'Fat Hen' 'Sugar beet' 'Charlock' 'Loose Silky-bent'\n",
      " 'Scentless Mayweed' 'Loose Silky-bent' 'Charlock' 'Maize' 'Fat Hen'\n",
      " 'Common Chickweed' 'Sugar beet' 'Sugar beet' 'Sugar beet'\n",
      " 'Common Chickweed' 'Fat Hen' 'Common wheat' 'Fat Hen' 'Charlock'\n",
      " 'Loose Silky-bent' 'Common Chickweed' 'Loose Silky-bent'\n",
      " 'Small-flowered Cranesbill' 'Shepherds Purse' 'Common Chickweed'\n",
      " 'Fat Hen' 'Sugar beet' 'Common wheat' 'Small-flowered Cranesbill'\n",
      " 'Sugar beet' 'Charlock' 'Scentless Mayweed' 'Loose Silky-bent' 'Maize'\n",
      " 'Loose Silky-bent' 'Loose Silky-bent' 'Small-flowered Cranesbill'\n",
      " 'Common Chickweed' 'Fat Hen' 'Loose Silky-bent' 'Cleavers' 'Charlock'\n",
      " 'Loose Silky-bent' 'Scentless Mayweed' 'Scentless Mayweed'\n",
      " 'Shepherds Purse' 'Small-flowered Cranesbill' 'Scentless Mayweed'\n",
      " 'Common wheat' 'Common Chickweed' 'Common Chickweed' 'Shepherds Purse'\n",
      " 'Maize' 'Shepherds Purse' 'Common Chickweed' 'Common Chickweed' 'Maize'\n",
      " 'Black-grass' 'Cleavers' 'Loose Silky-bent' 'Loose Silky-bent'\n",
      " 'Loose Silky-bent' 'Small-flowered Cranesbill' 'Loose Silky-bent' 'Maize'\n",
      " 'Scentless Mayweed' 'Scentless Mayweed' 'Common Chickweed' 'Fat Hen'\n",
      " 'Fat Hen' 'Small-flowered Cranesbill' 'Loose Silky-bent' 'Charlock'\n",
      " 'Scentless Mayweed' 'Black-grass' 'Charlock' 'Black-grass' 'Common wheat'\n",
      " 'Fat Hen' 'Loose Silky-bent' 'Common Chickweed' 'Cleavers'\n",
      " 'Loose Silky-bent' 'Charlock' 'Charlock' 'Small-flowered Cranesbill'\n",
      " 'Cleavers' 'Fat Hen' 'Common Chickweed' 'Fat Hen' 'Shepherds Purse'\n",
      " 'Fat Hen' 'Charlock' 'Fat Hen' 'Loose Silky-bent'\n",
      " 'Small-flowered Cranesbill' 'Cleavers' 'Maize' 'Loose Silky-bent'\n",
      " 'Small-flowered Cranesbill' 'Common Chickweed' 'Scentless Mayweed'\n",
      " 'Scentless Mayweed' 'Common Chickweed' 'Small-flowered Cranesbill'\n",
      " 'Common wheat' 'Common wheat' 'Fat Hen' 'Common Chickweed'\n",
      " 'Common Chickweed' 'Maize' 'Shepherds Purse' 'Cleavers' 'Charlock'\n",
      " 'Cleavers' 'Small-flowered Cranesbill' 'Loose Silky-bent'\n",
      " 'Loose Silky-bent' 'Cleavers' 'Small-flowered Cranesbill' 'Charlock'\n",
      " 'Sugar beet' 'Fat Hen' 'Maize' 'Small-flowered Cranesbill' 'Cleavers'\n",
      " 'Small-flowered Cranesbill' 'Loose Silky-bent' 'Cleavers'\n",
      " 'Small-flowered Cranesbill' 'Fat Hen' 'Common Chickweed'\n",
      " 'Loose Silky-bent' 'Maize' 'Common Chickweed' 'Small-flowered Cranesbill'\n",
      " 'Common wheat' 'Cleavers' 'Charlock' 'Small-flowered Cranesbill'\n",
      " 'Common Chickweed' 'Black-grass' 'Maize' 'Sugar beet' 'Maize'\n",
      " 'Small-flowered Cranesbill' 'Cleavers' 'Fat Hen' 'Shepherds Purse'\n",
      " 'Scentless Mayweed' 'Small-flowered Cranesbill' 'Charlock'\n",
      " 'Loose Silky-bent' 'Loose Silky-bent' 'Small-flowered Cranesbill'\n",
      " 'Fat Hen' 'Small-flowered Cranesbill' 'Scentless Mayweed'\n",
      " 'Common Chickweed' 'Fat Hen' 'Cleavers' 'Loose Silky-bent'\n",
      " 'Loose Silky-bent' 'Maize' 'Sugar beet' 'Maize' 'Loose Silky-bent'\n",
      " 'Common Chickweed' 'Fat Hen' 'Maize' 'Common Chickweed'\n",
      " 'Loose Silky-bent' 'Scentless Mayweed' 'Charlock' 'Maize'\n",
      " 'Small-flowered Cranesbill' 'Sugar beet' 'Fat Hen' 'Loose Silky-bent'\n",
      " 'Small-flowered Cranesbill' 'Fat Hen' 'Shepherds Purse'\n",
      " 'Common Chickweed' 'Cleavers' 'Small-flowered Cranesbill' 'Sugar beet'\n",
      " 'Sugar beet' 'Charlock' 'Loose Silky-bent' 'Cleavers' 'Cleavers'\n",
      " 'Sugar beet' 'Loose Silky-bent' 'Fat Hen' 'Common wheat' 'Fat Hen'\n",
      " 'Loose Silky-bent' 'Fat Hen' 'Charlock' 'Loose Silky-bent'\n",
      " 'Small-flowered Cranesbill' 'Sugar beet' 'Charlock' 'Charlock'\n",
      " 'Small-flowered Cranesbill' 'Small-flowered Cranesbill'\n",
      " 'Small-flowered Cranesbill' 'Black-grass' 'Scentless Mayweed'\n",
      " 'Small-flowered Cranesbill' 'Sugar beet' 'Charlock' 'Scentless Mayweed'\n",
      " 'Loose Silky-bent' 'Loose Silky-bent' 'Sugar beet' 'Scentless Mayweed'\n",
      " 'Cleavers' 'Shepherds Purse' 'Loose Silky-bent' 'Cleavers'\n",
      " 'Small-flowered Cranesbill' 'Scentless Mayweed' 'Common Chickweed'\n",
      " 'Charlock' 'Fat Hen' 'Charlock' 'Shepherds Purse' 'Maize'\n",
      " 'Loose Silky-bent' 'Sugar beet' 'Loose Silky-bent' 'Fat Hen'\n",
      " 'Loose Silky-bent' 'Charlock' 'Fat Hen' 'Loose Silky-bent'\n",
      " 'Loose Silky-bent' 'Common Chickweed' 'Scentless Mayweed'\n",
      " 'Small-flowered Cranesbill' 'Small-flowered Cranesbill'\n",
      " 'Common Chickweed' 'Charlock' 'Sugar beet' 'Loose Silky-bent' 'Charlock'\n",
      " 'Loose Silky-bent' 'Scentless Mayweed' 'Small-flowered Cranesbill'\n",
      " 'Small-flowered Cranesbill' 'Fat Hen' 'Common Chickweed'\n",
      " 'Shepherds Purse' 'Charlock' 'Sugar beet' 'Sugar beet' 'Loose Silky-bent'\n",
      " 'Loose Silky-bent' 'Black-grass' 'Common Chickweed' 'Charlock'\n",
      " 'Sugar beet' 'Loose Silky-bent' 'Scentless Mayweed' 'Loose Silky-bent'\n",
      " 'Loose Silky-bent' 'Scentless Mayweed' 'Sugar beet' 'Common Chickweed'\n",
      " 'Common Chickweed' 'Black-grass' 'Sugar beet' 'Sugar beet'\n",
      " 'Scentless Mayweed' 'Fat Hen' 'Charlock' 'Fat Hen' 'Charlock' 'Fat Hen'\n",
      " 'Common Chickweed' 'Maize' 'Sugar beet' 'Cleavers' 'Shepherds Purse'\n",
      " 'Charlock' 'Loose Silky-bent' 'Fat Hen' 'Small-flowered Cranesbill'\n",
      " 'Scentless Mayweed' 'Common wheat' 'Black-grass' 'Loose Silky-bent'\n",
      " 'Small-flowered Cranesbill' 'Fat Hen' 'Black-grass' 'Sugar beet'\n",
      " 'Loose Silky-bent' 'Shepherds Purse' 'Common wheat' 'Fat Hen' 'Charlock'\n",
      " 'Common Chickweed' 'Loose Silky-bent' 'Black-grass' 'Fat Hen'\n",
      " 'Small-flowered Cranesbill' 'Scentless Mayweed' 'Cleavers' 'Sugar beet'\n",
      " 'Small-flowered Cranesbill' 'Loose Silky-bent' 'Cleavers' 'Fat Hen'\n",
      " 'Small-flowered Cranesbill' 'Small-flowered Cranesbill' 'Fat Hen'\n",
      " 'Loose Silky-bent' 'Loose Silky-bent' 'Fat Hen' 'Loose Silky-bent'\n",
      " 'Common Chickweed' 'Charlock' 'Scentless Mayweed' 'Loose Silky-bent'\n",
      " 'Fat Hen' 'Common Chickweed' 'Charlock' 'Sugar beet' 'Sugar beet'\n",
      " 'Small-flowered Cranesbill' 'Common Chickweed'\n",
      " 'Small-flowered Cranesbill' 'Sugar beet' 'Shepherds Purse' 'Sugar beet'\n",
      " 'Common Chickweed' 'Scentless Mayweed' 'Charlock' 'Shepherds Purse'\n",
      " 'Sugar beet' 'Common Chickweed' 'Fat Hen' 'Cleavers' 'Black-grass'\n",
      " 'Fat Hen' 'Charlock' 'Loose Silky-bent' 'Charlock' 'Black-grass'\n",
      " 'Scentless Mayweed' 'Small-flowered Cranesbill' 'Sugar beet' 'Fat Hen'\n",
      " 'Common Chickweed' 'Charlock' 'Small-flowered Cranesbill' 'Fat Hen'\n",
      " 'Shepherds Purse' 'Scentless Mayweed' 'Loose Silky-bent' 'Common wheat'\n",
      " 'Black-grass' 'Loose Silky-bent' 'Loose Silky-bent' 'Charlock'\n",
      " 'Scentless Mayweed' 'Sugar beet' 'Loose Silky-bent' 'Common wheat'\n",
      " 'Common Chickweed' 'Loose Silky-bent' 'Loose Silky-bent' 'Common wheat'\n",
      " 'Small-flowered Cranesbill' 'Small-flowered Cranesbill' 'Fat Hen'\n",
      " 'Shepherds Purse' 'Maize' 'Small-flowered Cranesbill'\n",
      " 'Small-flowered Cranesbill' 'Charlock' 'Cleavers' 'Maize' 'Cleavers'\n",
      " 'Loose Silky-bent' 'Loose Silky-bent' 'Fat Hen' 'Charlock'\n",
      " 'Small-flowered Cranesbill' 'Common Chickweed'\n",
      " 'Small-flowered Cranesbill' 'Loose Silky-bent' 'Loose Silky-bent'\n",
      " 'Loose Silky-bent' 'Scentless Mayweed' 'Common Chickweed' 'Maize'\n",
      " 'Shepherds Purse' 'Common Chickweed' 'Fat Hen' 'Sugar beet' 'Sugar beet'\n",
      " 'Fat Hen' 'Scentless Mayweed' 'Small-flowered Cranesbill' 'Charlock'\n",
      " 'Sugar beet' 'Shepherds Purse' 'Charlock' 'Loose Silky-bent' 'Fat Hen'\n",
      " 'Scentless Mayweed' 'Black-grass' 'Common Chickweed' 'Charlock'\n",
      " 'Sugar beet' 'Loose Silky-bent' 'Cleavers' 'Fat Hen' 'Scentless Mayweed'\n",
      " 'Common Chickweed' 'Loose Silky-bent' 'Loose Silky-bent'\n",
      " 'Common Chickweed' 'Loose Silky-bent' 'Loose Silky-bent'\n",
      " 'Common Chickweed' 'Shepherds Purse' 'Loose Silky-bent'\n",
      " 'Scentless Mayweed' 'Small-flowered Cranesbill'\n",
      " 'Small-flowered Cranesbill' 'Loose Silky-bent' 'Loose Silky-bent'\n",
      " 'Loose Silky-bent' 'Cleavers' 'Scentless Mayweed' 'Cleavers' 'Cleavers'\n",
      " 'Common wheat' 'Loose Silky-bent' 'Charlock' 'Common Chickweed'\n",
      " 'Common Chickweed' 'Maize' 'Shepherds Purse' 'Fat Hen'\n",
      " 'Scentless Mayweed' 'Shepherds Purse' 'Loose Silky-bent'\n",
      " 'Loose Silky-bent' 'Black-grass' 'Fat Hen' 'Small-flowered Cranesbill'\n",
      " 'Loose Silky-bent' 'Loose Silky-bent' 'Black-grass' 'Fat Hen'\n",
      " 'Shepherds Purse' 'Maize' 'Sugar beet' 'Loose Silky-bent'\n",
      " 'Scentless Mayweed' 'Scentless Mayweed' 'Loose Silky-bent' 'Cleavers'\n",
      " 'Scentless Mayweed' 'Sugar beet' 'Fat Hen' 'Sugar beet'\n",
      " 'Common Chickweed' 'Scentless Mayweed' 'Black-grass' 'Loose Silky-bent'\n",
      " 'Scentless Mayweed' 'Loose Silky-bent' 'Scentless Mayweed'\n",
      " 'Common Chickweed' 'Maize' 'Sugar beet' 'Cleavers' 'Common Chickweed'\n",
      " 'Fat Hen' 'Scentless Mayweed' 'Scentless Mayweed'\n",
      " 'Small-flowered Cranesbill' 'Small-flowered Cranesbill'\n",
      " 'Scentless Mayweed' 'Maize' 'Loose Silky-bent' 'Fat Hen'\n",
      " 'Small-flowered Cranesbill' 'Scentless Mayweed' 'Charlock' 'Fat Hen'\n",
      " 'Black-grass' 'Scentless Mayweed' 'Common Chickweed' 'Loose Silky-bent'\n",
      " 'Sugar beet' 'Sugar beet' 'Cleavers' 'Loose Silky-bent' 'Fat Hen'\n",
      " 'Charlock' 'Scentless Mayweed' 'Fat Hen' 'Scentless Mayweed' 'Fat Hen'\n",
      " 'Fat Hen' 'Common Chickweed' 'Small-flowered Cranesbill'\n",
      " 'Loose Silky-bent' 'Common Chickweed' 'Shepherds Purse' 'Charlock'\n",
      " 'Loose Silky-bent' 'Fat Hen' 'Maize' 'Charlock' 'Cleavers' 'Black-grass'\n",
      " 'Small-flowered Cranesbill' 'Small-flowered Cranesbill' 'Charlock'\n",
      " 'Fat Hen' 'Loose Silky-bent' 'Scentless Mayweed' 'Loose Silky-bent'\n",
      " 'Common Chickweed' 'Maize' 'Scentless Mayweed' 'Charlock' 'Fat Hen'\n",
      " 'Loose Silky-bent' 'Sugar beet' 'Loose Silky-bent' 'Black-grass'\n",
      " 'Cleavers' 'Small-flowered Cranesbill' 'Scentless Mayweed' 'Fat Hen'\n",
      " 'Common Chickweed' 'Loose Silky-bent' 'Fat Hen' 'Common Chickweed'\n",
      " 'Scentless Mayweed' 'Common wheat' 'Loose Silky-bent' 'Fat Hen'\n",
      " 'Common Chickweed' 'Black-grass' 'Cleavers' 'Small-flowered Cranesbill'\n",
      " 'Sugar beet' 'Scentless Mayweed' 'Fat Hen' 'Common Chickweed'\n",
      " 'Small-flowered Cranesbill' 'Common Chickweed' 'Loose Silky-bent'\n",
      " 'Sugar beet' 'Shepherds Purse' 'Charlock' 'Common Chickweed'\n",
      " 'Loose Silky-bent' 'Charlock' 'Small-flowered Cranesbill'\n",
      " 'Loose Silky-bent' 'Loose Silky-bent' 'Sugar beet' 'Scentless Mayweed'\n",
      " 'Common Chickweed' 'Sugar beet' 'Small-flowered Cranesbill' 'Fat Hen'\n",
      " 'Sugar beet' 'Loose Silky-bent' 'Common Chickweed' 'Loose Silky-bent'\n",
      " 'Sugar beet' 'Loose Silky-bent' 'Common Chickweed' 'Scentless Mayweed'\n",
      " 'Scentless Mayweed' 'Charlock' 'Charlock' 'Loose Silky-bent' 'Sugar beet'\n",
      " 'Cleavers' 'Charlock' 'Sugar beet' 'Maize' 'Loose Silky-bent'\n",
      " 'Sugar beet' 'Fat Hen' 'Loose Silky-bent' 'Scentless Mayweed' 'Fat Hen'\n",
      " 'Common wheat' 'Sugar beet' 'Scentless Mayweed' 'Loose Silky-bent'\n",
      " 'Fat Hen' 'Sugar beet' 'Small-flowered Cranesbill' 'Loose Silky-bent'\n",
      " 'Cleavers' 'Small-flowered Cranesbill' 'Fat Hen' 'Fat Hen'\n",
      " 'Shepherds Purse' 'Loose Silky-bent' 'Common Chickweed' 'Shepherds Purse'\n",
      " 'Small-flowered Cranesbill' 'Small-flowered Cranesbill' 'Cleavers'\n",
      " 'Sugar beet' 'Charlock' 'Black-grass' 'Sugar beet' 'Common Chickweed'\n",
      " 'Black-grass' 'Scentless Mayweed' 'Scentless Mayweed' 'Charlock'\n",
      " 'Charlock' 'Sugar beet' 'Loose Silky-bent' 'Shepherds Purse'\n",
      " 'Loose Silky-bent' 'Small-flowered Cranesbill' 'Cleavers'\n",
      " 'Scentless Mayweed' 'Loose Silky-bent' 'Cleavers' 'Scentless Mayweed'\n",
      " 'Fat Hen' 'Charlock' 'Scentless Mayweed' 'Sugar beet' 'Charlock'\n",
      " 'Small-flowered Cranesbill' 'Sugar beet' 'Maize' 'Shepherds Purse'\n",
      " 'Common Chickweed' 'Shepherds Purse' 'Cleavers' 'Fat Hen'\n",
      " 'Common Chickweed' 'Shepherds Purse' 'Cleavers' 'Charlock' 'Fat Hen'\n",
      " 'Black-grass' 'Charlock' 'Scentless Mayweed' 'Fat Hen' 'Cleavers'\n",
      " 'Loose Silky-bent' 'Common Chickweed' 'Fat Hen' 'Black-grass'\n",
      " 'Loose Silky-bent' 'Fat Hen' 'Scentless Mayweed'\n",
      " 'Small-flowered Cranesbill' 'Loose Silky-bent' 'Sugar beet' 'Sugar beet'\n",
      " 'Charlock' 'Loose Silky-bent']\n"
     ]
    }
   ],
   "source": [
    "predictions=model.predict(evaluation)\n",
    "predictions=[np.argmax(i) for i in predictions]\n",
    "from sklearn.preprocessing import LabelEncoder\n",
    "le=LabelEncoder()\n",
    "training_labels=le.fit_transform(class_names)\n",
    "target=le.inverse_transform(predictions)\n",
    "print(target)"
   ]
  },
  {
   "cell_type": "code",
   "execution_count": 16,
   "metadata": {},
   "outputs": [],
   "source": [
    "submission = pd.DataFrame({'Image': test_fnames,'target': target})\n",
    "submission.to_csv('test.csv', index=False)"
   ]
  }
 ],
 "metadata": {
  "kernelspec": {
   "display_name": "Python 3",
   "language": "python",
   "name": "python3"
  },
  "language_info": {
   "codemirror_mode": {
    "name": "ipython",
    "version": 3
   },
   "file_extension": ".py",
   "mimetype": "text/x-python",
   "name": "python",
   "nbconvert_exporter": "python",
   "pygments_lexer": "ipython3",
   "version": "3.8.5"
  }
 },
 "nbformat": 4,
 "nbformat_minor": 4
}
